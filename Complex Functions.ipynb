{
 "cells": [
  {
   "cell_type": "markdown",
   "metadata": {},
   "source": [
    "# Singularities\n",
    "* A singularity is a point on a complex function that **is not analytic** - analytic here meaning being able to be expressed as an infinite series of powers of z\n",
    "* Example ${f(z) = e^z/z}$ is analytic except at ${z = 0}$\n",
    "* If the function converges as it approaches the singularity, the function can be bounded around this - this is known as **a removable singularity**\n",
    "* If it tends to ${+/- \\infty}$ as it approaches the singularity"
   ]
  },
  {
   "cell_type": "markdown",
   "metadata": {},
   "source": [
    "# Complex Number\n",
    "* Typically notated as ${z = a + bi}$ with ${a}$ as a real part and ${b}$ as a coefficient on the imaginary number"
   ]
  },
  {
   "cell_type": "code",
   "execution_count": null,
   "metadata": {},
   "outputs": [],
   "source": []
  }
 ],
 "metadata": {
  "kernelspec": {
   "display_name": "Python 3",
   "language": "python",
   "name": "python3"
  },
  "language_info": {
   "codemirror_mode": {
    "name": "ipython",
    "version": 3
   },
   "file_extension": ".py",
   "mimetype": "text/x-python",
   "name": "python",
   "nbconvert_exporter": "python",
   "pygments_lexer": "ipython3",
   "version": "3.7.3"
  }
 },
 "nbformat": 4,
 "nbformat_minor": 2
}
