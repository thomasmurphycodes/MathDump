{
 "cells": [
  {
   "cell_type": "markdown",
   "metadata": {},
   "source": [
    "# Chain Rule\n",
    "* Derivative of outside function(inside function) * derivative of inside function\n",
    "* e.g. derivative of $\\displaystyle{\\sqrt{5z - 8}}$\n",
    "* outside derivative: $\\displaystyle{1/2x^{-1/2}}$\n",
    "* inside derivative: 5\n",
    "* combined: $\\displaystyle{1/2(5z - 8)^{-1/2} * 5}$"
   ]
  },
  {
   "cell_type": "code",
   "execution_count": null,
   "metadata": {},
   "outputs": [],
   "source": []
  }
 ],
 "metadata": {
  "kernelspec": {
   "display_name": "Python 3",
   "language": "python",
   "name": "python3"
  },
  "language_info": {
   "codemirror_mode": {
    "name": "ipython",
    "version": 3
   },
   "file_extension": ".py",
   "mimetype": "text/x-python",
   "name": "python",
   "nbconvert_exporter": "python",
   "pygments_lexer": "ipython3",
   "version": "3.7.3"
  }
 },
 "nbformat": 4,
 "nbformat_minor": 2
}
