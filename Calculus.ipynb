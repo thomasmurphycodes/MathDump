{
 "cells": [
  {
   "cell_type": "markdown",
   "metadata": {},
   "source": [
    "# Chain Rule\n",
    "* Derivative of outside function(inside function) * derivative of inside function\n",
    "* e.g. derivative of $\\displaystyle{\\sqrt{5z - 8}}$\n",
    "* outside derivative: $\\displaystyle{1/2x^{-1/2}}$\n",
    "* inside derivative: 5\n",
    "* combined: $\\displaystyle{1/2(5z - 8)^{-1/2} * 5}$"
   ]
  },
  {
   "cell_type": "markdown",
   "metadata": {},
   "source": [
    "# Indefinite Integrals\n",
    "* https://tutorial.math.lamar.edu/Classes/CalcI/IndefiniteIntegrals.aspx"
   ]
  },
  {
   "cell_type": "markdown",
   "metadata": {},
   "source": [
    "# Integration Techniques\n",
    "* Integration by Parts: https://tutorial.math.lamar.edu/Classes/CalcII/IntTechIntro.aspx"
   ]
  },
  {
   "cell_type": "markdown",
   "metadata": {},
   "source": [
    "# Partial Derivatives\n",
    "* https://tutorial.math.lamar.edu/Classes/CalcIII/CalcIII.aspx"
   ]
  }
 ],
 "metadata": {
  "kernelspec": {
   "display_name": "Python 3",
   "language": "python",
   "name": "python3"
  },
  "language_info": {
   "codemirror_mode": {
    "name": "ipython",
    "version": 3
   },
   "file_extension": ".py",
   "mimetype": "text/x-python",
   "name": "python",
   "nbconvert_exporter": "python",
   "pygments_lexer": "ipython3",
   "version": "3.7.3"
  }
 },
 "nbformat": 4,
 "nbformat_minor": 2
}
