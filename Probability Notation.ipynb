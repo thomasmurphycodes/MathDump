{
 "cells": [
  {
   "cell_type": "markdown",
   "metadata": {},
   "source": [
    "# State Space\n",
    "* Analogous to the **power set** of all events physically possible, denoted by ${\\Omega}$\n",
    "* At least one state must materialize in each trials\n",
    "* The probability of each state materializing must be between 0 and 1\n",
    "* All probabilities must add up to 1\n",
    "* P is a function mapping each value in the space to a probability of its occurrence P(x) is the probability of x.\n",
    "* Together ${(\\Omega, P(\\Omega), P)}$ form the **Probability Space**"
   ]
  },
  {
   "cell_type": "code",
   "execution_count": null,
   "metadata": {},
   "outputs": [],
   "source": []
  }
 ],
 "metadata": {
  "kernelspec": {
   "display_name": "Python 3",
   "language": "python",
   "name": "python3"
  },
  "language_info": {
   "codemirror_mode": {
    "name": "ipython",
    "version": 3
   },
   "file_extension": ".py",
   "mimetype": "text/x-python",
   "name": "python",
   "nbconvert_exporter": "python",
   "pygments_lexer": "ipython3",
   "version": "3.7.3"
  }
 },
 "nbformat": 4,
 "nbformat_minor": 2
}
