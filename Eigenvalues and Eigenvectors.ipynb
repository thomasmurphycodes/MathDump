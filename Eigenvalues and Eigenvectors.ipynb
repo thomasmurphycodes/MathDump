{
 "cells": [
  {
   "cell_type": "code",
   "execution_count": 1,
   "metadata": {},
   "outputs": [
    {
     "data": {
      "text/plain": [
       "\"\\nIf you can draw a between a vector (v) and a matrix (A), then the multiplication Av can be composed to:\\nEigenvalue: a constant\\nmultiplied by\\nEigenvector: A vector.\\n\\nThere are infinitely many Eigenvectors on this line, which are called Eigenspaces, and each Eigenvector on this\\nline has a complementary Eigenvalue\\n\\nHow are these useful?\\n\\nEigenspaces describe the evolution of sequences and where (and if) they converge within bounds, this is done\\niteratively described by the sequence (v, Av, A^2v, A^3v....)\\n\\nA Markov Matrix is a matrix whose entries are strictly positive and add to 1, and 1 is always its largest eigenvalue\\nThis means there is a value of v for which Av's lambda equals 1 - this is the steady state of the system\\n\\nIn even simpler terms, an eigenvalue is a constant that when multiplied by a vector v gives the same answer as\\nmultiplying the matrix A by that vector.\\n\\nA * v === lambda * v\\n\\nSteps to find Eigenvalues:\\n1. multiply Lambda by identity matrix\\n2. Take the determinant of A - Iv\\nExample: \\n1.[[-6, 3],[4, 5]]\\n2. (-6 - lambda) * (5 - lambda) * (-3 * 4) \\n3. Distribute: \\n-6lambda + 5lambda + lammda^2 - (6*5) - 12\\n3. lambda^2 + lambda - 42\\n\\nThis is now a quadratic equation, meaning it will have two eigenvalues because two roots\\n\\n\\nReference: https://www.mathsisfun.com/algebra/eigenvalue.html\\n\\n\""
      ]
     },
     "execution_count": 1,
     "metadata": {},
     "output_type": "execute_result"
    }
   ],
   "source": [
    "'''\n",
    "If you can draw a between a vector (v) and a matrix (A), then the multiplication Av can be composed to:\n",
    "Eigenvalue: a constant\n",
    "multiplied by\n",
    "Eigenvector: A vector.\n",
    "\n",
    "There are infinitely many Eigenvectors on this line, which are called Eigenspaces, and each Eigenvector on this\n",
    "line has a complementary Eigenvalue\n",
    "\n",
    "How are these useful?\n",
    "\n",
    "Eigenspaces describe the evolution of sequences and where (and if) they converge within bounds, this is done\n",
    "iteratively described by the sequence (v, Av, A^2v, A^3v....)\n",
    "\n",
    "A Markov Matrix is a matrix whose entries are strictly positive and add to 1, and 1 is always its largest eigenvalue\n",
    "This means there is a value of v for which Av's lambda equals 1 - this is the steady state of the system\n",
    "\n",
    "In even simpler terms, an eigenvalue is a constant that when multiplied by a vector v gives the same answer as\n",
    "multiplying the matrix A by that vector.\n",
    "\n",
    "A * v === lambda * v\n",
    "\n",
    "Steps to find Eigenvalues:\n",
    "1. multiply Lambda by identity matrix\n",
    "2. Take the determinant of A - Iv\n",
    "Example: \n",
    "1.[[-6, 3],[4, 5]]\n",
    "2. (-6 - lambda) * (5 - lambda) * (-3 * 4) \n",
    "3. Distribute: \n",
    "-6lambda + 5lambda + lammda^2 - (6*5) - 12\n",
    "3. lambda^2 + lambda - 42\n",
    "\n",
    "This is now a quadratic equation, meaning it will have two eigenvalues because two roots\n",
    "\n",
    "\n",
    "Reference: https://www.mathsisfun.com/algebra/eigenvalue.html\n",
    "\n",
    "'''"
   ]
  },
  {
   "cell_type": "code",
   "execution_count": 2,
   "metadata": {},
   "outputs": [],
   "source": [
    "import math\n",
    "def quadratic(a,b,c):\n",
    "    root_one = (-b + math.sqrt(b**2 - (4 * a * c))) / (2 * a)\n",
    "    root_two = (-b - math.sqrt(b**2 - (4 * a * c))) / (2 * a)\n",
    "    return (root_one, root_two)"
   ]
  },
  {
   "cell_type": "code",
   "execution_count": 3,
   "metadata": {},
   "outputs": [],
   "source": [
    "eigenvalue_one, eigenvalue_two = quadratic(1, 1, -42)"
   ]
  },
  {
   "cell_type": "code",
   "execution_count": 4,
   "metadata": {},
   "outputs": [
    {
     "data": {
      "text/plain": [
       "6.0"
      ]
     },
     "execution_count": 4,
     "metadata": {},
     "output_type": "execute_result"
    }
   ],
   "source": [
    "eigenvalue_one"
   ]
  },
  {
   "cell_type": "code",
   "execution_count": 5,
   "metadata": {},
   "outputs": [
    {
     "data": {
      "text/plain": [
       "-7.0"
      ]
     },
     "execution_count": 5,
     "metadata": {},
     "output_type": "execute_result"
    }
   ],
   "source": [
    "eigenvalue_two"
   ]
  },
  {
   "cell_type": "code",
   "execution_count": 20,
   "metadata": {},
   "outputs": [
    {
     "data": {
      "text/plain": [
       "{x: y/4}"
      ]
     },
     "execution_count": 20,
     "metadata": {},
     "output_type": "execute_result"
    }
   ],
   "source": [
    "'''\n",
    "Now that we have these two eigenvalues, we can set up the equation to find the eigenvectors:\n",
    "1. [[-6, 3],[4, 5]] * [x, y] = 6 * [x, y]\n",
    "   [[-6, 3],[4, 5]] * [x, y] = -7 * [x, y]\n",
    "2. \n",
    "-6x + 3y = 6x\n",
    "4x + 5y = 6y\n",
    "-6x + 3y = -7x\n",
    "4x + 5y = -7y\n",
    "'''\n",
    "import sympy as sym\n",
    "x, y = sym.symbols('x,y')\n",
    "f = sym.Eq(-12*x + 3 * y, 0)\n",
    "sym.solve([f], [x,y])"
   ]
  },
  {
   "cell_type": "code",
   "execution_count": 21,
   "metadata": {},
   "outputs": [
    {
     "data": {
      "text/plain": [
       "{x: -3*y}"
      ]
     },
     "execution_count": 21,
     "metadata": {},
     "output_type": "execute_result"
    }
   ],
   "source": [
    "f = sym.Eq(x + 3 * y, 0)\n",
    "sym.solve([f], [x,y])"
   ]
  },
  {
   "cell_type": "code",
   "execution_count": null,
   "metadata": {},
   "outputs": [],
   "source": [
    "'''\n",
    "So [1, 4] and [1, -3] are our eigenvectors!\n",
    "'''"
   ]
  }
 ],
 "metadata": {
  "kernelspec": {
   "display_name": "Python 3",
   "language": "python",
   "name": "python3"
  },
  "language_info": {
   "codemirror_mode": {
    "name": "ipython",
    "version": 3
   },
   "file_extension": ".py",
   "mimetype": "text/x-python",
   "name": "python",
   "nbconvert_exporter": "python",
   "pygments_lexer": "ipython3",
   "version": "3.7.3"
  }
 },
 "nbformat": 4,
 "nbformat_minor": 2
}
