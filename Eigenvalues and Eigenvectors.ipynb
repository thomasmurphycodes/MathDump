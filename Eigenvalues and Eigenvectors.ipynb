{
 "cells": [
  {
   "cell_type": "markdown",
   "metadata": {},
   "source": [
    "# Eigenvalues & Eigenvectors\n",
    "* If you can draw a line through (0, 0), a line vector (v), and the product of the matrix A and the vector (Av), \n",
    "then Av is just v multiplied by a scalar ${\\lambda}$ - this is an **eigenvalue** and the vector v is the corresponding **eigenvector**.\n",
    "\n",
    "* There are infinitely many Eigenvectors on this line, which are called Eigenspaces, and each Eigenvector on this line has a complementary Eigenvalue.\n",
    "\n",
    "* How are these useful?\n",
    "\n",
    "* Eigenspaces describe the evolution of sequences and where (and if) they converge within bounds, this is done iteratively described by the sequence (v, Av, A^2v, A^3v....)\n",
    "\n",
    "* A Markov Matrix is a matrix whose entries are strictly positive and add to 1, and 1 is always its largest eigenvalue. This means there is a value of v for which Av's lambda equals 1 - this is the steady state of the system\n",
    "\n",
    "* In even simpler terms, an eigenvalue is a constant that when multiplied by a vector v gives the same answer as multiplying the matrix A by that vector.\n",
    "\n",
    "* ${A * v = \\lambda * v}$\n",
    "\n",
    "* Steps to find Eigenvalues:\n",
    "    1. multiply ${\\lambda}$ by ${I}$\n",
    "    2. Take the determinant of ${A - Iv}$\n",
    "    \n",
    "\n",
    "\n",
    "Example: \n",
    "\n",
    "1. Consider the matrix\n",
    "${\\begin{pmatrix} \n",
    "-6 & 3 \\\\ \n",
    "4 & 5 \\end{pmatrix}}$\n",
    "2. ${(-6 - \\lambda) * (5 - \\lambda) * (-3 * 4)}$\n",
    "3. Distribute: \n",
    "${-6 \\lambda + 5 \\lambda + \\lambda^2 - (6*5) - 12}$\n",
    "3. ${\\lambda ^2 + \\lambda - 42}$\n",
    "\n",
    "This is now a quadratic equation, meaning it will have two eigenvalues because two roots\n",
    "\n",
    "\n",
    "#### Reference: https://www.mathsisfun.com/algebra/eigenvalue.html\n"
   ]
  },
  {
   "cell_type": "code",
   "execution_count": 2,
   "metadata": {},
   "outputs": [],
   "source": [
    "import math\n",
    "def quadratic(a,b,c):\n",
    "    root_one = (-b + math.sqrt(b**2 - (4 * a * c))) / (2 * a)\n",
    "    root_two = (-b - math.sqrt(b**2 - (4 * a * c))) / (2 * a)\n",
    "    return (root_one, root_two)"
   ]
  },
  {
   "cell_type": "code",
   "execution_count": 3,
   "metadata": {},
   "outputs": [],
   "source": [
    "eigenvalue_one, eigenvalue_two = quadratic(1, 1, -42)"
   ]
  },
  {
   "cell_type": "code",
   "execution_count": 4,
   "metadata": {},
   "outputs": [
    {
     "data": {
      "text/plain": [
       "6.0"
      ]
     },
     "execution_count": 4,
     "metadata": {},
     "output_type": "execute_result"
    }
   ],
   "source": [
    "eigenvalue_one"
   ]
  },
  {
   "cell_type": "code",
   "execution_count": 5,
   "metadata": {},
   "outputs": [
    {
     "data": {
      "text/plain": [
       "-7.0"
      ]
     },
     "execution_count": 5,
     "metadata": {},
     "output_type": "execute_result"
    }
   ],
   "source": [
    "eigenvalue_two"
   ]
  },
  {
   "cell_type": "code",
   "execution_count": 20,
   "metadata": {},
   "outputs": [
    {
     "data": {
      "text/plain": [
       "{x: y/4}"
      ]
     },
     "execution_count": 20,
     "metadata": {},
     "output_type": "execute_result"
    }
   ],
   "source": [
    "'''\n",
    "Now that we have these two eigenvalues, we can set up the equation to find the eigenvectors:\n",
    "1. [[-6, 3],[4, 5]] * [x, y] = 6 * [x, y]\n",
    "   [[-6, 3],[4, 5]] * [x, y] = -7 * [x, y]\n",
    "2. \n",
    "-6x + 3y = 6x\n",
    "4x + 5y = 6y\n",
    "-6x + 3y = -7x\n",
    "4x + 5y = -7y\n",
    "'''\n",
    "import sympy as sym\n",
    "x, y = sym.symbols('x,y')\n",
    "f = sym.Eq(-12*x + 3 * y, 0)\n",
    "sym.solve([f], [x,y])"
   ]
  },
  {
   "cell_type": "code",
   "execution_count": 21,
   "metadata": {},
   "outputs": [
    {
     "data": {
      "text/plain": [
       "{x: -3*y}"
      ]
     },
     "execution_count": 21,
     "metadata": {},
     "output_type": "execute_result"
    }
   ],
   "source": [
    "f = sym.Eq(x + 3 * y, 0)\n",
    "sym.solve([f], [x,y])"
   ]
  },
  {
   "cell_type": "code",
   "execution_count": null,
   "metadata": {},
   "outputs": [],
   "source": [
    "'''\n",
    "So [1, 4] and [1, -3] are our eigenvectors!\n",
    "'''"
   ]
  }
 ],
 "metadata": {
  "kernelspec": {
   "display_name": "Python 3",
   "language": "python",
   "name": "python3"
  },
  "language_info": {
   "codemirror_mode": {
    "name": "ipython",
    "version": 3
   },
   "file_extension": ".py",
   "mimetype": "text/x-python",
   "name": "python",
   "nbconvert_exporter": "python",
   "pygments_lexer": "ipython3",
   "version": "3.7.3"
  }
 },
 "nbformat": 4,
 "nbformat_minor": 2
}
