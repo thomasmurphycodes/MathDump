{
 "cells": [
  {
   "cell_type": "code",
   "execution_count": null,
   "metadata": {},
   "outputs": [],
   "source": [
    "'''\n",
    "If you can draw a between a vector (v) and a matrix (A), then the multiplication Av can be composed to:\n",
    "Eigenvalue: a constant\n",
    "multiplied by\n",
    "Eigenvector: A vector.\n",
    "\n",
    "There are infinitely many Eigenvectors on this line, which are called Eigenspaces, and each Eigenvector on this\n",
    "line has a complementary Eigenvalue\n",
    "\n",
    "How are these useful?\n",
    "\n",
    "Eigenspaces describe the evolution of sequences and where (and if) they converge within bounds, this is done\n",
    "iteratively described by the sequence (v, Av, A^2v, A^3v....)\n",
    "\n",
    "A Markov Matrix is a matrix whose entries are strictly positive and add to 1, and 1 is always its largest eigenvalue\n",
    "This means there is a value of v for which Av's lambda equals 1 - this is the steady state of the system\n",
    "\n",
    "In even simpler terms, an eigenvalue is a constant that when multiplied by a vector v gives the same answer as\n",
    "multiplying the matrix A by that vector.\n",
    "\n",
    "A * v === lambda * v\n",
    "\n",
    "Steps to find Eigenvalues:\n",
    "1. multiply Lambda by identity matrix\n",
    "2. Take the determinant of A - Iv\n",
    "Example: \n",
    "1.[[-6, 3],[4, 5]]\n",
    "2. (-6 - lambda) * (5 - lambda) * (-3 * 4) \n",
    "3. Distribute: \n",
    "-6lambda + 5lambda + lammda^2 - (6*5) - 12\n",
    "3. lambda^2 + lambda - 42\n",
    "\n",
    "\n",
    "\n",
    "Reference: https://www.mathsisfun.com/algebra/eigenvalue.html\n",
    "\n",
    "'''"
   ]
  }
 ],
 "metadata": {
  "kernelspec": {
   "display_name": "Python 3",
   "language": "python",
   "name": "python3"
  },
  "language_info": {
   "codemirror_mode": {
    "name": "ipython",
    "version": 3
   },
   "file_extension": ".py",
   "mimetype": "text/x-python",
   "name": "python",
   "nbconvert_exporter": "python",
   "pygments_lexer": "ipython3",
   "version": "3.7.3"
  }
 },
 "nbformat": 4,
 "nbformat_minor": 2
}
