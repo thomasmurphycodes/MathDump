{
 "cells": [
  {
   "cell_type": "code",
   "execution_count": null,
   "metadata": {},
   "outputs": [],
   "source": [
    "'''\n",
    "Plate notation is so damn cool - look it up if you come back to this and have forgotten what it is.\n",
    "You can bin any continuous quantity - so returns, prices, # of stddev above/below mean price can all be binned and \n",
    "distributed.\n",
    "Latent Dirichlet (DEER-ISH-LAY) Allocation is\n",
    "1. Latent because a documents topic is not directly observe, so the variable is latent\n",
    "2. Dirichlet because the distributions follow that distribution family\n",
    "3. Allocation because you are allocation documents to a topic\n",
    "4. Each Document gets a distribution of belonging-ness to a topic\n",
    "5. Each word in each document gets a distribution of what topic it suggests\n",
    "6. The words themselves are the only observable variables, all other distributions and the topics \n",
    "    in those distributions are latent\n",
    "''' "
   ]
  }
 ],
 "metadata": {
  "kernelspec": {
   "display_name": "Python 3",
   "language": "python",
   "name": "python3"
  },
  "language_info": {
   "codemirror_mode": {
    "name": "ipython",
    "version": 3
   },
   "file_extension": ".py",
   "mimetype": "text/x-python",
   "name": "python",
   "nbconvert_exporter": "python",
   "pygments_lexer": "ipython3",
   "version": "3.7.3"
  }
 },
 "nbformat": 4,
 "nbformat_minor": 2
}
