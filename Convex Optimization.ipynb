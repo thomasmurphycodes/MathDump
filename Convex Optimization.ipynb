{
 "cells": [
  {
   "cell_type": "markdown",
   "metadata": {},
   "source": [
    "# Convex Optimization\n",
    "* Ref: https://people.eecs.berkeley.edu/~jordan/courses/294-fall09/lectures/optimization/slides.pdf\n",
    "* Find the **function parameters** for a given function set that give the **minimum function output**, subject to constrains\n",
    "* e.g. minimize $f_{0}(x)$ given $f_{i}(x)$ <= 0 and $h_{j}(x)$ == 0\n",
    "* **Most machine learning problems are optimization problems**\n",
    "* e.g. Linear Regression : $\\displaystyle{\\min_{w} ||Xw - y||^2}$\n",
    "* e.g Classification (log regression or SVM): $\\displaystyle{\\min_{w} \\sum_{i=1}^n log(1+(exp^-y_{i}x^T_{i}w))}$"
   ]
  },
  {
   "cell_type": "markdown",
   "metadata": {},
   "source": [
    "# Non-Convex Approaches\n",
    "* Maximum Likelihood Method: $\\displaystyle{\\max_{\\theta}\\sum_{i=1}^n log p_{\\theta}x_{i}}$  `Break out`\n",
    "* Collaborative Filtering: $\\displaystyle{\\min_{w} \\sum_{i < j} log(1 + (exp(w^T x_{i} - w^T x_{j}}))$ `i < j indicates strictly increasing order here, need to understand what that i and j are, Break Out`\n",
    "* k-means; $\\displaystyle{\\min_{\\mu_{1}, ..., \\mu_{k}} J(\\mu) = \\sum_{j=1}^k \\sum_{i\\in C}||{x_{i} - \\mu_{i}||^2}}$ `Minimize squared distance for all points i in cluster k, the set of C points, Break Out`"
   ]
  },
  {
   "cell_type": "markdown",
   "metadata": {},
   "source": [
    "# Why Doesn't Non-Convex Algo Work on Convex Sets?\n",
    "* 1. Local Minima of $\\displaystyle{f_{0}}$!\n",
    "* 2. Non-convex approaches can't handle constraints! - a typical surface sample $\\displaystyle{h_{x} = sin(2{\\pi}x) = 0}$"
   ]
  },
  {
   "cell_type": "markdown",
   "metadata": {},
   "source": [
    "# Convex Set\n",
    "* A Euclidean subspace bounded (but not defined) by a set of points whom the lines between are contained within the bounds of the subspace\n",
    "* Formally: The set $\\displaystyle{C \\subseteq \\mathbb{R}^n}$ is convex if for $\\displaystyle{x, y \\in C}$ and any $\\displaystyle{\\alpha \\in [0,1]}$, $\\displaystyle{\\alpha x + (1 - \\alpha)y \\in C}$\n",
    "* Obviously the real numbers are a convex set\n",
    "* The positive quadrants of the plane are a convex set\n",
    "* The intersection of two convex sets is a convex set\n"
   ]
  },
  {
   "cell_type": "markdown",
   "metadata": {},
   "source": [
    "# Convex Functions\n",
    "* Functions whose range is a convex set\n",
    "* The _epigraph_ of a function $\\displaystyle{f}$ is the region bounded by the convex domain of $\\displaystyle{f}$\n",
    "* The geometric interpretation is that the graph of $\\displaystyle{f}$ is bounded below everywhere by anyone of its tangents.\n",
    "* In vector calculus, the gradient of a scalar field y in the space Rn (whose independent coordinates are the components of x) is the transpose of the derivative of a scalar by a vector."
   ]
  },
  {
   "cell_type": "code",
   "execution_count": null,
   "metadata": {},
   "outputs": [],
   "source": []
  }
 ],
 "metadata": {
  "kernelspec": {
   "display_name": "Python 3",
   "language": "python",
   "name": "python3"
  },
  "language_info": {
   "codemirror_mode": {
    "name": "ipython",
    "version": 3
   },
   "file_extension": ".py",
   "mimetype": "text/x-python",
   "name": "python",
   "nbconvert_exporter": "python",
   "pygments_lexer": "ipython3",
   "version": "3.7.3"
  }
 },
 "nbformat": 4,
 "nbformat_minor": 2
}
