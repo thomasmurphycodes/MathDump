{
 "cells": [
  {
   "cell_type": "markdown",
   "metadata": {},
   "source": [
    "# Fourier Expansion\n",
    "* The way Fourier expansion works is to synthetically reconstrue a signal through the (in theory) infinite sum of trigonometric functions\n",
    "* e.g. add sin(x) + 3sin(x)/3 ………… etc. until you get to the waveform you want\n",
    "* The coefficients and the number of terms to expand to is determined by the period of the wave being decomposed\n",
    "\n",
    "See here: https://www.mathsisfun.com/calculus/fourier-series.html\n",
    "\n",
    "A sine wave's net integral over a period is 0"
   ]
  },
  {
   "cell_type": "code",
   "execution_count": null,
   "metadata": {},
   "outputs": [],
   "source": []
  }
 ],
 "metadata": {
  "kernelspec": {
   "display_name": "Python 3 (ipykernel)",
   "language": "python",
   "name": "python3"
  },
  "language_info": {
   "codemirror_mode": {
    "name": "ipython",
    "version": 3
   },
   "file_extension": ".py",
   "mimetype": "text/x-python",
   "name": "python",
   "nbconvert_exporter": "python",
   "pygments_lexer": "ipython3",
   "version": "3.9.7"
  }
 },
 "nbformat": 4,
 "nbformat_minor": 2
}
