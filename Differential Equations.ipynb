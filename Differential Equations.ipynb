{
 "cells": [
  {
   "cell_type": "markdown",
   "metadata": {},
   "source": [
    "# Differential Equations\n",
    "* https://tutorial.math.lamar.edu/Classes/DE/DE.aspx"
   ]
  },
  {
   "cell_type": "code",
   "execution_count": 1,
   "metadata": {},
   "outputs": [],
   "source": [
    "def euler_method(dy_dx, step_size, initial_value, x_point):\n",
    "    n = 0\n",
    "    print(\"t:{}   y:{}   f(t, y):{}   step_size:{}\".format(n, initial_value, initial_value, step_size))\n",
    "    while x_point + 1 >  n:\n",
    "        print(n)\n",
    "        n = n + 1\n",
    "        print(\"t:{}   y:{}   f(t, y):{}   step_size:{}\".format(n, initial_value, initial_value, step_size))"
   ]
  },
  {
   "cell_type": "code",
   "execution_count": 2,
   "metadata": {},
   "outputs": [
    {
     "name": "stdout",
     "output_type": "stream",
     "text": [
      "t:0   y:1   f(t, y):1   step_size:1\n",
      "0\n",
      "t:1   y:1   f(t, y):1   step_size:1\n",
      "1\n",
      "t:2   y:1   f(t, y):1   step_size:1\n",
      "2\n",
      "t:3   y:1   f(t, y):1   step_size:1\n",
      "3\n",
      "t:4   y:1   f(t, y):1   step_size:1\n",
      "4\n",
      "t:5   y:1   f(t, y):1   step_size:1\n"
     ]
    }
   ],
   "source": [
    "euler_method('foo', 1, 1, 4)"
   ]
  },
  {
   "cell_type": "code",
   "execution_count": null,
   "metadata": {},
   "outputs": [],
   "source": []
  }
 ],
 "metadata": {
  "kernelspec": {
   "display_name": "Python 3",
   "language": "python",
   "name": "python3"
  },
  "language_info": {
   "codemirror_mode": {
    "name": "ipython",
    "version": 3
   },
   "file_extension": ".py",
   "mimetype": "text/x-python",
   "name": "python",
   "nbconvert_exporter": "python",
   "pygments_lexer": "ipython3",
   "version": "3.7.3"
  }
 },
 "nbformat": 4,
 "nbformat_minor": 2
}
