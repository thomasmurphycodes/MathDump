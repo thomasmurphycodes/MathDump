{
 "cells": [
  {
   "cell_type": "markdown",
   "metadata": {},
   "source": [
    "$\\displaystyle{C \\subseteq \\mathbb{R}^n}$ `C contains some or all of the members of R (equal subset)`"
   ]
  },
  {
   "cell_type": "markdown",
   "metadata": {},
   "source": [
    "$\\displaystyle{i\\in C}$ ` i in contained in C`"
   ]
  },
  {
   "cell_type": "markdown",
   "metadata": {},
   "source": [
    "${\\forall}$ `for all` e.g. ${\\forall t: S_{t}}$ read as for all t in set S of t"
   ]
  },
  {
   "cell_type": "markdown",
   "metadata": {},
   "source": [
    "\n",
    "*`Infinum: The greatest element of set T that is less than or equal to all members of set S`\n",
    "\n",
    "*`Supremum: The least element of set T that is greather than or equal to all members of set S`"
   ]
  },
  {
   "cell_type": "code",
   "execution_count": 1,
   "metadata": {},
   "outputs": [],
   "source": [
    "a =[1, 5, 7]\n",
    "b = [4,  8, 9, 10]\n",
    "# 8 is the Supremum of B against A"
   ]
  },
  {
   "cell_type": "markdown",
   "metadata": {},
   "source": [
    "# Power Set\n",
    "* The Power Set is the set of all subsets contained in the power set\n",
    "* e.g. {a, b, c} pow -> {{a}, {b}, {c}, {a, b}, {a,c}, {b,c}, {a, b, c}, {}}"
   ]
  },
  {
   "cell_type": "markdown",
   "metadata": {},
   "source": []
  }
 ],
 "metadata": {
  "kernelspec": {
   "display_name": "Python 3",
   "language": "python",
   "name": "python3"
  },
  "language_info": {
   "codemirror_mode": {
    "name": "ipython",
    "version": 3
   },
   "file_extension": ".py",
   "mimetype": "text/x-python",
   "name": "python",
   "nbconvert_exporter": "python",
   "pygments_lexer": "ipython3",
   "version": "3.7.3"
  }
 },
 "nbformat": 4,
 "nbformat_minor": 2
}
