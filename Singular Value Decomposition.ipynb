{
 "cells": [
  {
   "cell_type": "markdown",
   "metadata": {},
   "source": [
    "MATRIX DECOMPOSITION: Describe a matrix using its constituent elements. The most widely used decomposition is SINGULAR VALUE DECOMPOSITION (SVD). \n",
    "* All matrices have an SVD. \n",
    "* A matrix can be reconstructed using the constituent elements with the dot product: U • S • V^T\n",
    "* Dimensionality reduction can be performed with SVD\n",
    "* The pseudoinverse can be computed with SVD\n",
    "* Calculated with iterative numerical methods\n",
    "* In Python, calculated with the svd() function from scipy.linalg()\n",
    "\n",
    "Three Elements -> A = U • Sigma • V^T\n",
    "\n",
    "U: m x m matrix - the columns are the **left singular** values of A\n",
    "\n",
    "Sigma: m x n diagonal matrix. The diagonal values are known as **singular values** of the original matrix\n",
    "\n",
    "V^T: transpose of an n X n matrix. The columns are the **right singular** values of A\n",
    "\n",
    "\n",
    "COLSPACE: The enumeration of columns which compose rank\n",
    "\n",
    "ROWSPACE: The enumeration of rows which compose the rank\n",
    "\n",
    "Sources: https://machinelearningmastery.com/singular-value-decomposition-for-machine-learning/"
   ]
  },
  {
   "cell_type": "code",
   "execution_count": 3,
   "metadata": {},
   "outputs": [
    {
     "data": {
      "text/plain": [
       "array([[1, 2],\n",
       "       [3, 4],\n",
       "       [5, 6]])"
      ]
     },
     "execution_count": 3,
     "metadata": {},
     "output_type": "execute_result"
    }
   ],
   "source": [
    "import numpy as np\n",
    "from scipy.linalg import svd\n",
    "A = np.array([[1,2], [3,4], [5,6]])\n",
    "A"
   ]
  },
  {
   "cell_type": "code",
   "execution_count": 4,
   "metadata": {},
   "outputs": [],
   "source": [
    "U, s, VT = svd(A) # SVD "
   ]
  },
  {
   "cell_type": "code",
   "execution_count": 5,
   "metadata": {},
   "outputs": [
    {
     "data": {
      "text/plain": [
       "array([[-0.2298477 ,  0.88346102,  0.40824829],\n",
       "       [-0.52474482,  0.24078249, -0.81649658],\n",
       "       [-0.81964194, -0.40189603,  0.40824829]])"
      ]
     },
     "execution_count": 5,
     "metadata": {},
     "output_type": "execute_result"
    }
   ],
   "source": [
    "U"
   ]
  },
  {
   "cell_type": "code",
   "execution_count": 7,
   "metadata": {},
   "outputs": [
    {
     "data": {
      "text/plain": [
       "array([[-0.61962948, -0.78489445],\n",
       "       [-0.78489445,  0.61962948]])"
      ]
     },
     "execution_count": 7,
     "metadata": {},
     "output_type": "execute_result"
    }
   ],
   "source": [
    "VT"
   ]
  },
  {
   "cell_type": "code",
   "execution_count": 8,
   "metadata": {},
   "outputs": [
    {
     "data": {
      "text/plain": [
       "array([[0., 0.],\n",
       "       [0., 0.],\n",
       "       [0., 0.]])"
      ]
     },
     "execution_count": 8,
     "metadata": {},
     "output_type": "execute_result"
    }
   ],
   "source": [
    "# Reconstituting original matrix from decomposition\n",
    "# s is returned as a singular value vector, so we have to turn it into a diagonal matrix\n",
    "Sigma = np.zeros((A.shape[0], A.shape[1])) # m x n matrix in shape of original\n",
    "Sigma"
   ]
  },
  {
   "cell_type": "code",
   "execution_count": 14,
   "metadata": {},
   "outputs": [
    {
     "data": {
      "text/plain": [
       "array([[9.52551809, 0.        ],\n",
       "       [0.        , 0.51430058],\n",
       "       [0.        , 0.        ]])"
      ]
     },
     "execution_count": 14,
     "metadata": {},
     "output_type": "execute_result"
    }
   ],
   "source": [
    "# Populate with nxn diagonal matrix from diagonalizing s\n",
    "Sigma[:A.shape[1], :A.shape[1]] = np.diag(s)\n",
    "Sigma"
   ]
  },
  {
   "cell_type": "code",
   "execution_count": 17,
   "metadata": {},
   "outputs": [
    {
     "data": {
      "text/plain": [
       "array([[1., 2.],\n",
       "       [3., 4.],\n",
       "       [5., 6.]])"
      ]
     },
     "execution_count": 17,
     "metadata": {},
     "output_type": "execute_result"
    }
   ],
   "source": [
    "# Now we can reconstruct original matrix\n",
    "B = U.dot(Sigma.dot(VT))\n",
    "B # wow!"
   ]
  },
  {
   "cell_type": "markdown",
   "metadata": {},
   "source": [
    "## Pseudoinver"
   ]
  }
 ],
 "metadata": {
  "kernelspec": {
   "display_name": "Python 3",
   "language": "python",
   "name": "python3"
  },
  "language_info": {
   "codemirror_mode": {
    "name": "ipython",
    "version": 3
   },
   "file_extension": ".py",
   "mimetype": "text/x-python",
   "name": "python",
   "nbconvert_exporter": "python",
   "pygments_lexer": "ipython3",
   "version": "3.7.3"
  }
 },
 "nbformat": 4,
 "nbformat_minor": 2
}
