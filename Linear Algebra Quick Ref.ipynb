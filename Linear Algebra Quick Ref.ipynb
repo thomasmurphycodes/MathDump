{
 "cells": [
  {
   "cell_type": "code",
   "execution_count": 2,
   "metadata": {},
   "outputs": [
    {
     "data": {
      "text/plain": [
       "'\\nThe things you always forget about linear algebra both notation wise and implementation wise\\n\\nCovers:\\nPARAMETRIC FORMS\\nTRACE\\nINVERSE\\nRANK\\nNORMS\\nMATRIX MULTIPLACATION\\nDOT PRODUCT\\nORTHOGONALITY\\nUNIT VECTOR\\nORTHOGONAL COMPLEMENT\\nPOSITIVE SEMI-DEFINITE\\nQUADRATIC FUNCTION\\nSINGULAR VALUES\\nTHE MATRIX EQUATION: Ax = b FORM\\n\\n# Best Reference Found: http://textbooks.math.gatech.edu/ila/\\n\\n'"
      ]
     },
     "execution_count": 2,
     "metadata": {},
     "output_type": "execute_result"
    }
   ],
   "source": [
    "'''\n",
    "The things you always forget about linear algebra both notation wise and implementation wise\n",
    "\n",
    "Covers:\n",
    "PARAMETRIC FORMS\n",
    "TRACE\n",
    "INVERSE\n",
    "RANK\n",
    "NORMS\n",
    "MATRIX MULTIPLACATION\n",
    "DOT PRODUCT\n",
    "ORTHOGONALITY\n",
    "UNIT VECTOR\n",
    "ORTHOGONAL COMPLEMENT\n",
    "POSITIVE SEMI-DEFINITE\n",
    "QUADRATIC FUNCTION\n",
    "SINGULAR VALUES\n",
    "THE MATRIX EQUATION: Ax = b FORM\n",
    "\n",
    "# Best Reference Found: http://textbooks.math.gatech.edu/ila/\n",
    "\n",
    "'''"
   ]
  },
  {
   "cell_type": "code",
   "execution_count": 3,
   "metadata": {},
   "outputs": [],
   "source": [
    "from numpy.linalg import inv, matrix_rank\n",
    "import numpy as np"
   ]
  },
  {
   "cell_type": "code",
   "execution_count": 4,
   "metadata": {},
   "outputs": [
    {
     "data": {
      "text/plain": [
       "'\\nA system of equations that has infinitely many solutions due to the reduced form containing a variable is written\\nin PARAMETRIC FORM - this solution set describes a plane.\\n\\nExample:\\nx = 1 - 5z\\ny = -1 - 2z\\nz = z\\n\\nRecipe: Parametric form\\nThe parametric form of the solution set of a consistent system of linear equations is obtained as follows.\\n\\nWrite the system as an augmented matrix.\\nRow reduce to reduced row echelon form.\\nWrite the corresponding (solved) system of linear equations.\\nMove all free variables to the right hand side of the equations.\\nFrom: https://textbooks.math.gatech.edu/ila/parametric-form.html\\n'"
      ]
     },
     "execution_count": 4,
     "metadata": {},
     "output_type": "execute_result"
    }
   ],
   "source": [
    "'''\n",
    "A system of equations that has infinitely many solutions due to the reduced form containing a variable is written\n",
    "in PARAMETRIC FORM - this solution set describes a plane.\n",
    "\n",
    "Example:\n",
    "x = 1 - 5z\n",
    "y = -1 - 2z\n",
    "z = z\n",
    "\n",
    "Recipe: Parametric form\n",
    "The parametric form of the solution set of a consistent system of linear equations is obtained as follows.\n",
    "\n",
    "Write the system as an augmented matrix.\n",
    "Row reduce to reduced row echelon form.\n",
    "Write the corresponding (solved) system of linear equations.\n",
    "Move all free variables to the right hand side of the equations.\n",
    "From: https://textbooks.math.gatech.edu/ila/parametric-form.html\n",
    "'''"
   ]
  },
  {
   "cell_type": "markdown",
   "metadata": {},
   "source": [
    "# Trace\n",
    "* The Sum of the elements on the diagonal of the matrix\n",
    "* A kinda dumb identity shown below - for the identity matrix, the trace is always the size of m (or n) in the matrix"
   ]
  },
  {
   "cell_type": "code",
   "execution_count": 5,
   "metadata": {},
   "outputs": [
    {
     "data": {
      "text/plain": [
       "5.0"
      ]
     },
     "execution_count": 5,
     "metadata": {},
     "output_type": "execute_result"
    }
   ],
   "source": [
    "identity_five = np.identity(5)\n",
    "identity_five.trace() # i.e. for Identity matrix, always the size of the matrix"
   ]
  },
  {
   "cell_type": "code",
   "execution_count": 6,
   "metadata": {},
   "outputs": [
    {
     "data": {
      "text/plain": [
       "array([[ 2.25179981e+14, -1.12589991e+14, -4.50359963e+14,\n",
       "         3.37769972e+14],\n",
       "       [-6.00479950e+14,  6.75539944e+14,  4.50359963e+14,\n",
       "        -5.25419957e+14],\n",
       "       [ 5.25419957e+14, -1.01330992e+15,  4.50359963e+14,\n",
       "         3.75299969e+13],\n",
       "       [-1.50119988e+14,  4.50359963e+14, -4.50359963e+14,\n",
       "         1.50119988e+14]])"
      ]
     },
     "execution_count": 6,
     "metadata": {},
     "output_type": "execute_result"
    }
   ],
   "source": [
    "# Inverse - the matrix B that when multiple by A gives Identity matrix I\n",
    "s = np.arange(16).reshape((4,4)) * 4\n",
    "inv(s)"
   ]
  },
  {
   "cell_type": "markdown",
   "metadata": {},
   "source": [
    "# Rank\n",
    "The number of **linearly independent columns** of the Matrix (meaning remaining non-zero columns when in row echelon form post Gaussian elimination) - note that **row rank and column rank are always equal**"
   ]
  },
  {
   "cell_type": "code",
   "execution_count": 7,
   "metadata": {},
   "outputs": [
    {
     "data": {
      "text/plain": [
       "2"
      ]
     },
     "execution_count": 7,
     "metadata": {},
     "output_type": "execute_result"
    }
   ],
   "source": [
    "matrix_rank(s)"
   ]
  },
  {
   "cell_type": "markdown",
   "metadata": {},
   "source": [
    "# Norms\n",
    "* A Norm is the **total length of all vectors in a space**\n",
    "\n",
    "## $\\displaystyle{ \\ell_{0} }$ Norm\n",
    "*Not a real norm, equivalent to the count of nonzero vectors in the space. e.g. {[0,0][0,2]} has an L0 norm of 1\n",
    "##  $\\displaystyle{ \\ell_{1} }$ Norm\n",
    "* Taxicab distance - The **sum of magnitudes in the vector space**\n",
    "* e.g. from origin to [3,4]: $\\displaystyle{ ||X||_{1} = |3| + |4| = 7 }$\n",
    "\n",
    "##  $\\displaystyle{ \\ell_{2} }$ Norm\n",
    "* The shortest distance from the origin to go from one to the other - it becomes the hypoteneuse of the triangle formed by these three lines\n",
    "* Because of this Pythagorean theorem gives this norm: $\\displaystyle{ ||X||_{2} = \\sqrt{|3|^2 + |4|^2} = \\sqrt{25} = 5}$"
   ]
  },
  {
   "cell_type": "code",
   "execution_count": 8,
   "metadata": {},
   "outputs": [
    {
     "data": {
      "text/plain": [
       "32"
      ]
     },
     "execution_count": 8,
     "metadata": {},
     "output_type": "execute_result"
    }
   ],
   "source": [
    "'''\n",
    "The dot product multiplies two vectors and returns a scalar\n",
    "x * y = x[1]y[1] + x[2]y[2] + x[n]y[n]\n",
    "\n",
    "The dot product is commutative: x * y = y * x\n",
    "Distributive with addition: (x + y) * z = x * z + y * z\n",
    "Distributive with scalar multiplacation: (c * x)  * y = c * (x * y)\n",
    "\n",
    "This is an example (but not the only) inner product space\n",
    "'''\n",
    "dot = np.dot([1,2,3], [4,5,6])\n",
    "# 1*4 + 2 * 5 + 3 * 6\n",
    "dot"
   ]
  },
  {
   "cell_type": "code",
   "execution_count": 9,
   "metadata": {},
   "outputs": [
    {
     "data": {
      "text/plain": [
       "5.0"
      ]
     },
     "execution_count": 9,
     "metadata": {},
     "output_type": "execute_result"
    }
   ],
   "source": [
    "import math\n",
    "# The length of a vector is the square root of its dot product with itself\n",
    "# ||x|| = sqrt(x*x)\n",
    "x = [3,4]\n",
    "vector_length = math.sqrt(np.dot(x,x))\n",
    "vector_length"
   ]
  },
  {
   "cell_type": "code",
   "execution_count": 10,
   "metadata": {},
   "outputs": [],
   "source": [
    "# Multiplication - by Scalar, Vector, Matrix\n",
    "# Ref: https://www.mathsisfun.com/algebra/matrix-multiplying.html\n",
    "# When multiplying two matrices, you get as many rows as the 1st term and as many columns as the 2nd term\n"
   ]
  },
  {
   "cell_type": "code",
   "execution_count": 11,
   "metadata": {},
   "outputs": [
    {
     "data": {
      "text/plain": [
       "5.830951894845301"
      ]
     },
     "execution_count": 11,
     "metadata": {},
     "output_type": "execute_result"
    }
   ],
   "source": [
    "'''\n",
    "The property defining the closest point between a subspace (plane) and a given point is that the vector between the\n",
    "two is orthogonal (perpendicular) to the subspace. Therefore the search for the orthogonal vector is a search over\n",
    "the space that minimizes the distance.\n",
    "\n",
    "The distance between two points is the *length* of the vector between them\n",
    "'''\n",
    "a = [4, 5]\n",
    "b = [7, 10]\n",
    "vect_dist = np.subtract(b, a)\n",
    "math.sqrt(np.dot(vect_dist, vect_dist)) "
   ]
  },
  {
   "cell_type": "code",
   "execution_count": 12,
   "metadata": {},
   "outputs": [
    {
     "data": {
      "text/plain": [
       "array([0.51449576, 0.85749293])"
      ]
     },
     "execution_count": 12,
     "metadata": {},
     "output_type": "execute_result"
    }
   ],
   "source": [
    "'''\n",
    "The UNIT VECTOR is a vector with length 1. There are infinitely many per definition of legnth, but \n",
    "[1, 0, 0], [0, 1, 0], [0, 0, 1] are the unit vectors defining 3D space\n",
    "\n",
    "For any nonzero vector x, there is one unit vector pointing in the same direction. It is obtained by dividing \n",
    "the x by the length of x\n",
    "'''\n",
    "unit_vect = vect_dist / (math.sqrt(np.dot(vect_dist, vect_dist)))\n",
    "unit_vect"
   ]
  },
  {
   "cell_type": "code",
   "execution_count": 13,
   "metadata": {},
   "outputs": [
    {
     "data": {
      "text/plain": [
       "0.9999999999999999"
      ]
     },
     "execution_count": 13,
     "metadata": {},
     "output_type": "execute_result"
    }
   ],
   "source": [
    "(math.sqrt(np.dot(unit_vect, unit_vect)))"
   ]
  },
  {
   "cell_type": "code",
   "execution_count": 14,
   "metadata": {},
   "outputs": [
    {
     "data": {
      "text/plain": [
       "'\\nVectors are orthogonal iff their dot product is 0\\nNotation: x ⊥ y if x • y = 0\\n\\nORTHOGONAL COMPLEMENT: The Orthogonal Complement of subspace W is the set {v in R^n where v • w = 0 for w in W}\\nORTHOGONAL PROJECTION: The vector from subspace W to point x: key formula is\\nProjection Vector xL = (u • x / u •\\xa0u) * u,\\nwhere u is a line on W closest to x and x is a point\\n'"
      ]
     },
     "execution_count": 14,
     "metadata": {},
     "output_type": "execute_result"
    }
   ],
   "source": [
    "'''\n",
    "Vectors are orthogonal iff their dot product is 0\n",
    "Notation: x ⊥ y if x • y = 0\n",
    "\n",
    "ORTHOGONAL COMPLEMENT: The Orthogonal Complement of subspace W is the set {v in R^n where v • w = 0 for w in W}\n",
    "ORTHOGONAL PROJECTION: The vector from subspace W to point x: key formula is\n",
    "Projection Vector xL = (u • x / u • u) * u,\n",
    "where u is a line on W closest to x and x is a point\n",
    "'''"
   ]
  },
  {
   "cell_type": "code",
   "execution_count": 15,
   "metadata": {},
   "outputs": [
    {
     "data": {
      "text/plain": [
       "array([[9.52551809, 0.        ],\n",
       "       [0.        , 0.51430058]])"
      ]
     },
     "execution_count": 15,
     "metadata": {},
     "output_type": "execute_result"
    }
   ],
   "source": [
    "s = np.array([9.52551809, 0.51430058])\n",
    "np.diag(s) # Turn a vector into a diagonal matrix"
   ]
  },
  {
   "cell_type": "code",
   "execution_count": 16,
   "metadata": {},
   "outputs": [
    {
     "data": {
      "text/plain": [
       "'\\nNext up: Linear transformations: https://textbooks.math.gatech.edu/ila/chap-matrices.html\\n'"
      ]
     },
     "execution_count": 16,
     "metadata": {},
     "output_type": "execute_result"
    }
   ],
   "source": [
    "'''\n",
    "Next up: Linear transformations: https://textbooks.math.gatech.edu/ila/chap-matrices.html\n",
    "'''"
   ]
  },
  {
   "cell_type": "markdown",
   "metadata": {},
   "source": [
    "# Positive Semidefinite\n",
    "* An ${n  x  n}$ square matrix is said to be positive semi definite if the scalar output o|f ${z^T • M • z}$ is positive for all ${z}$ of size ${n}$"
   ]
  },
  {
   "cell_type": "markdown",
   "metadata": {},
   "source": [
    "# Affine Function\n",
    "* Function in the form of a variable + a constant - a straight line in the form $\\displaystyle{mx + b}$"
   ]
  },
  {
   "cell_type": "markdown",
   "metadata": {},
   "source": [
    "# Quadratic Function\n",
    "\n",
    "* A function whose highest degree is 2."
   ]
  },
  {
   "cell_type": "markdown",
   "metadata": {},
   "source": [
    "# Singular Values\n",
    "* The absolute values of the eigenvalues of a system of equations"
   ]
  },
  {
   "cell_type": "markdown",
   "metadata": {},
   "source": [
    "# The Matrix Equation Ax = b\n",
    "* Multiplying a matrix A times a vector x can be viewed a linear combination of the columns of A using the x as weights\n",
    "* Ax - b = 0 shows up all the time in machine learning for linear problems"
   ]
  },
  {
   "cell_type": "code",
   "execution_count": null,
   "metadata": {},
   "outputs": [],
   "source": []
  }
 ],
 "metadata": {
  "kernelspec": {
   "display_name": "Python 3",
   "language": "python",
   "name": "python3"
  },
  "language_info": {
   "codemirror_mode": {
    "name": "ipython",
    "version": 3
   },
   "file_extension": ".py",
   "mimetype": "text/x-python",
   "name": "python",
   "nbconvert_exporter": "python",
   "pygments_lexer": "ipython3",
   "version": "3.7.3"
  }
 },
 "nbformat": 4,
 "nbformat_minor": 2
}
