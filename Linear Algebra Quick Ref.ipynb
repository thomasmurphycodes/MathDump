{
 "cells": [
  {
   "cell_type": "markdown",
   "metadata": {},
   "source": [
    "### Covers:\n",
    "* PARAMETRIC FORMS\n",
    "* TRACE\n",
    "* INVERSE\n",
    "* RANK\n",
    "* NORMS\n",
    "* MATRIX MULTIPLACATION\n",
    "* DOT PRODUCT\n",
    "* ORTHOGONALITY\n",
    "* UNIT VECTOR(ORTHOGONAL COMPLEMENT\n",
    "* POSITIVE SEMI-DEFINITE\n",
    "* QUADRATIC FUNCTION\n",
    "* SINGULAR VALUES\n",
    "* THE MATRIX EQUATION: Ax = b FORM\n",
    "\n",
    "#### Best Reference Found: http://textbooks.math.gatech.edu/ila/\n"
   ]
  },
  {
   "cell_type": "code",
   "execution_count": 2,
   "metadata": {},
   "outputs": [],
   "source": [
    "from numpy.linalg import inv, matrix_rank\n",
    "import numpy as np"
   ]
  },
  {
   "cell_type": "markdown",
   "metadata": {},
   "source": [
    "# Parametric Form\n",
    "* A system of equations that has infinitely many solutions due to the reduced form containing a variable is written\n",
    "in PARAMETRIC FORM - this solution set describes a plane.\n",
    "\n",
    "Example:\n",
    "* ${x = 1 - 5z}$\n",
    "* ${y = -1 - 2z}$\n",
    "* ${z = z}$\n",
    "\n",
    "Recipe: Parametric form\n",
    "The parametric form of the solution set of a consistent system of linear equations is obtained as follows.\n",
    "\n",
    "Write the system as an augmented matrix.\n",
    "Row reduce to reduced row echelon form.\n",
    "Write the corresponding (solved) system of linear equations.\n",
    "Move all free variables to the right hand side of the equations.\n",
    "From: https://textbooks.math.gatech.edu/ila/parametric-form.html\n",
    "'''"
   ]
  },
  {
   "cell_type": "markdown",
   "metadata": {},
   "source": [
    "# Trace\n",
    "* The Sum of the elements on the diagonal of the matrix\n",
    "* A kinda dumb identity shown below - for the identity matrix, the trace is always the size of m (or n) in the matrix"
   ]
  },
  {
   "cell_type": "code",
   "execution_count": 5,
   "metadata": {},
   "outputs": [
    {
     "data": {
      "text/plain": [
       "5.0"
      ]
     },
     "execution_count": 5,
     "metadata": {},
     "output_type": "execute_result"
    }
   ],
   "source": [
    "identity_five = np.identity(5)\n",
    "identity_five.trace() # i.e. for Identity matrix, always the size of the matrix"
   ]
  },
  {
   "cell_type": "markdown",
   "metadata": {},
   "source": [
    "# Inverse\n",
    "* For matrix A, just the matrix B where ${B * I = A}$"
   ]
  },
  {
   "cell_type": "code",
   "execution_count": 6,
   "metadata": {},
   "outputs": [
    {
     "ename": "LinAlgError",
     "evalue": "Singular matrix",
     "output_type": "error",
     "traceback": [
      "\u001b[0;31m---------------------------------------------------------------------------\u001b[0m",
      "\u001b[0;31mLinAlgError\u001b[0m                               Traceback (most recent call last)",
      "\u001b[0;32m/var/folders/v5/60p9hy415q1f6h1nb7nptvr00000gn/T/ipykernel_19303/2760274032.py\u001b[0m in \u001b[0;36m<module>\u001b[0;34m\u001b[0m\n\u001b[1;32m      1\u001b[0m \u001b[0ms\u001b[0m \u001b[0;34m=\u001b[0m \u001b[0mnp\u001b[0m\u001b[0;34m.\u001b[0m\u001b[0marange\u001b[0m\u001b[0;34m(\u001b[0m\u001b[0;36m16\u001b[0m\u001b[0;34m)\u001b[0m\u001b[0;34m.\u001b[0m\u001b[0mreshape\u001b[0m\u001b[0;34m(\u001b[0m\u001b[0;34m(\u001b[0m\u001b[0;36m4\u001b[0m\u001b[0;34m,\u001b[0m\u001b[0;36m4\u001b[0m\u001b[0;34m)\u001b[0m\u001b[0;34m)\u001b[0m \u001b[0;34m*\u001b[0m \u001b[0;36m4\u001b[0m\u001b[0;34m\u001b[0m\u001b[0;34m\u001b[0m\u001b[0m\n\u001b[0;32m----> 2\u001b[0;31m \u001b[0minv\u001b[0m\u001b[0;34m(\u001b[0m\u001b[0ms\u001b[0m\u001b[0;34m)\u001b[0m\u001b[0;34m\u001b[0m\u001b[0;34m\u001b[0m\u001b[0m\n\u001b[0m",
      "\u001b[0;32m<__array_function__ internals>\u001b[0m in \u001b[0;36minv\u001b[0;34m(*args, **kwargs)\u001b[0m\n",
      "\u001b[0;32m~/opt/anaconda3/lib/python3.9/site-packages/numpy/linalg/linalg.py\u001b[0m in \u001b[0;36minv\u001b[0;34m(a)\u001b[0m\n\u001b[1;32m    543\u001b[0m     \u001b[0msignature\u001b[0m \u001b[0;34m=\u001b[0m \u001b[0;34m'D->D'\u001b[0m \u001b[0;32mif\u001b[0m \u001b[0misComplexType\u001b[0m\u001b[0;34m(\u001b[0m\u001b[0mt\u001b[0m\u001b[0;34m)\u001b[0m \u001b[0;32melse\u001b[0m \u001b[0;34m'd->d'\u001b[0m\u001b[0;34m\u001b[0m\u001b[0;34m\u001b[0m\u001b[0m\n\u001b[1;32m    544\u001b[0m     \u001b[0mextobj\u001b[0m \u001b[0;34m=\u001b[0m \u001b[0mget_linalg_error_extobj\u001b[0m\u001b[0;34m(\u001b[0m\u001b[0m_raise_linalgerror_singular\u001b[0m\u001b[0;34m)\u001b[0m\u001b[0;34m\u001b[0m\u001b[0;34m\u001b[0m\u001b[0m\n\u001b[0;32m--> 545\u001b[0;31m     \u001b[0mainv\u001b[0m \u001b[0;34m=\u001b[0m \u001b[0m_umath_linalg\u001b[0m\u001b[0;34m.\u001b[0m\u001b[0minv\u001b[0m\u001b[0;34m(\u001b[0m\u001b[0ma\u001b[0m\u001b[0;34m,\u001b[0m \u001b[0msignature\u001b[0m\u001b[0;34m=\u001b[0m\u001b[0msignature\u001b[0m\u001b[0;34m,\u001b[0m \u001b[0mextobj\u001b[0m\u001b[0;34m=\u001b[0m\u001b[0mextobj\u001b[0m\u001b[0;34m)\u001b[0m\u001b[0;34m\u001b[0m\u001b[0;34m\u001b[0m\u001b[0m\n\u001b[0m\u001b[1;32m    546\u001b[0m     \u001b[0;32mreturn\u001b[0m \u001b[0mwrap\u001b[0m\u001b[0;34m(\u001b[0m\u001b[0mainv\u001b[0m\u001b[0;34m.\u001b[0m\u001b[0mastype\u001b[0m\u001b[0;34m(\u001b[0m\u001b[0mresult_t\u001b[0m\u001b[0;34m,\u001b[0m \u001b[0mcopy\u001b[0m\u001b[0;34m=\u001b[0m\u001b[0;32mFalse\u001b[0m\u001b[0;34m)\u001b[0m\u001b[0;34m)\u001b[0m\u001b[0;34m\u001b[0m\u001b[0;34m\u001b[0m\u001b[0m\n\u001b[1;32m    547\u001b[0m \u001b[0;34m\u001b[0m\u001b[0m\n",
      "\u001b[0;32m~/opt/anaconda3/lib/python3.9/site-packages/numpy/linalg/linalg.py\u001b[0m in \u001b[0;36m_raise_linalgerror_singular\u001b[0;34m(err, flag)\u001b[0m\n\u001b[1;32m     86\u001b[0m \u001b[0;34m\u001b[0m\u001b[0m\n\u001b[1;32m     87\u001b[0m \u001b[0;32mdef\u001b[0m \u001b[0m_raise_linalgerror_singular\u001b[0m\u001b[0;34m(\u001b[0m\u001b[0merr\u001b[0m\u001b[0;34m,\u001b[0m \u001b[0mflag\u001b[0m\u001b[0;34m)\u001b[0m\u001b[0;34m:\u001b[0m\u001b[0;34m\u001b[0m\u001b[0;34m\u001b[0m\u001b[0m\n\u001b[0;32m---> 88\u001b[0;31m     \u001b[0;32mraise\u001b[0m \u001b[0mLinAlgError\u001b[0m\u001b[0;34m(\u001b[0m\u001b[0;34m\"Singular matrix\"\u001b[0m\u001b[0;34m)\u001b[0m\u001b[0;34m\u001b[0m\u001b[0;34m\u001b[0m\u001b[0m\n\u001b[0m\u001b[1;32m     89\u001b[0m \u001b[0;34m\u001b[0m\u001b[0m\n\u001b[1;32m     90\u001b[0m \u001b[0;32mdef\u001b[0m \u001b[0m_raise_linalgerror_nonposdef\u001b[0m\u001b[0;34m(\u001b[0m\u001b[0merr\u001b[0m\u001b[0;34m,\u001b[0m \u001b[0mflag\u001b[0m\u001b[0;34m)\u001b[0m\u001b[0;34m:\u001b[0m\u001b[0;34m\u001b[0m\u001b[0;34m\u001b[0m\u001b[0m\n",
      "\u001b[0;31mLinAlgError\u001b[0m: Singular matrix"
     ]
    }
   ],
   "source": [
    "s = np.arange(16).reshape((4,4)) * 4\n",
    "inv(s)"
   ]
  },
  {
   "cell_type": "markdown",
   "metadata": {},
   "source": [
    "# Rank\n",
    "The number of **linearly independent columns** of the Matrix (meaning remaining non-zero columns when in row echelon form post Gaussian elimination) - note that **row rank and column rank are always equal**"
   ]
  },
  {
   "cell_type": "code",
   "execution_count": 7,
   "metadata": {},
   "outputs": [
    {
     "data": {
      "text/plain": [
       "2"
      ]
     },
     "execution_count": 7,
     "metadata": {},
     "output_type": "execute_result"
    }
   ],
   "source": [
    "matrix_rank(s)"
   ]
  },
  {
   "cell_type": "markdown",
   "metadata": {},
   "source": [
    "# Norms\n",
    "* A Norm is the **total length of all vectors in a space** around the origin [0,0]\n",
    "\n",
    "## $\\displaystyle{ \\ell_{0} }$ Norm\n",
    "*Not a real norm, equivalent to the count of nonzero vectors in the space. e.g. {[0,0][0,2]} has an L0 norm of 1\n",
    "##  $\\displaystyle{ \\ell_{1} }$ Norm\n",
    "* Taxicab distance - The **sum of magnitudes in the vector space**\n",
    "* e.g. from origin to [3,4]: $\\displaystyle{ ||X||_{1} = |3| + |4| = 7 }$ - think origin to 3, origin to 4\n",
    "\n",
    "##  $\\displaystyle{ \\ell_{2} }$ Norm\n",
    "* The shortest distance from the origin to go from one to the other - it becomes the hypoteneuse of the triangle formed by these three lines\n",
    "* Because of this Pythagorean theorem gives this norm: $\\displaystyle{ ||X||_{2} = \\sqrt{|3|^2 + |4|^2} = \\sqrt{25} = 5}$"
   ]
  },
  {
   "cell_type": "markdown",
   "metadata": {},
   "source": [
    "# Dot Product\n",
    "* The dot product multiplies two vectors and returns a scalar\n",
    "* ${x * y = x[1]y[1] + x[2]y[2] + x[n]y[n]}$\n",
    "* The dot product is commutative: ${x * y = y * x}$\n",
    "* Distributive with addition: ${(x + y) * z = x * z + y * z}$\n",
    "* Distributive with scalar multiplacation: ${(c * x)  * y = c * (x * y)}$"
   ]
  },
  {
   "cell_type": "code",
   "execution_count": 7,
   "metadata": {},
   "outputs": [
    {
     "data": {
      "text/plain": [
       "32"
      ]
     },
     "execution_count": 7,
     "metadata": {},
     "output_type": "execute_result"
    }
   ],
   "source": [
    "'''\n",
    "This is an example (but not the only) inner product space\n",
    "\n",
    "'''\n",
    "dot = np.dot([1,2,3], [4,5,6])\n",
    "# 1*4 + 2 * 5 + 3 * 6\n",
    "dot"
   ]
  },
  {
   "cell_type": "markdown",
   "metadata": {},
   "source": [
    "# Length of a Vector\n",
    "* The length of a vector is the square root of its dot product with itself\n",
    "* ${||x|| = \\sqrt{x*x}}$"
   ]
  },
  {
   "cell_type": "code",
   "execution_count": 9,
   "metadata": {},
   "outputs": [
    {
     "data": {
      "text/plain": [
       "5.0"
      ]
     },
     "execution_count": 9,
     "metadata": {},
     "output_type": "execute_result"
    }
   ],
   "source": [
    "import math\n",
    ")\n",
    "x = [3,4]\n",
    "vector_length = math.sqrt(np.dot(x,x))\n",
    "vector_length"
   ]
  },
  {
   "cell_type": "markdown",
   "metadata": {},
   "source": [
    "# Multiplication - by Scalar, Vector, Matrix\n",
    "* Ref: https://www.mathsisfun.com/algebra/matrix-multiplying.html\n",
    "* When multiplying two matrices, you get as many rows as the 1st term and as many columns as the 2nd term"
   ]
  },
  {
   "cell_type": "code",
   "execution_count": 11,
   "metadata": {},
   "outputs": [
    {
     "data": {
      "text/plain": [
       "5.830951894845301"
      ]
     },
     "execution_count": 11,
     "metadata": {},
     "output_type": "execute_result"
    }
   ],
   "source": [
    "'''\n",
    "The property defining the closest point between a subspace (plane) and a given point is that the vector between the\n",
    "two is orthogonal (perpendicular) to the subspace. Therefore the search for the orthogonal vector is a search over\n",
    "the space that minimizes the distance.\n",
    "\n",
    "The distance between two points is the *length* of the vector between them\n",
    "'''\n",
    "a = [4, 5]\n",
    "b = [7, 10]\n",
    "vect_dist = np.subtract(b, a)\n",
    "math.sqrt(np.dot(vect_dist, vect_dist)) "
   ]
  },
  {
   "cell_type": "code",
   "execution_count": 12,
   "metadata": {},
   "outputs": [
    {
     "data": {
      "text/plain": [
       "array([0.51449576, 0.85749293])"
      ]
     },
     "execution_count": 12,
     "metadata": {},
     "output_type": "execute_result"
    }
   ],
   "source": [
    "'''\n",
    "The UNIT VECTOR is a vector with length 1. There are infinitely many per definition of legnth, but \n",
    "[1, 0, 0], [0, 1, 0], [0, 0, 1] are the unit vectors defining 3D space\n",
    "\n",
    "For any nonzero vector x, there is one unit vector pointing in the same direction. It is obtained by dividing \n",
    "the x by the length of x\n",
    "'''\n",
    "unit_vect = vect_dist / (math.sqrt(np.dot(vect_dist, vect_dist)))\n",
    "unit_vect"
   ]
  },
  {
   "cell_type": "code",
   "execution_count": 13,
   "metadata": {},
   "outputs": [
    {
     "data": {
      "text/plain": [
       "0.9999999999999999"
      ]
     },
     "execution_count": 13,
     "metadata": {},
     "output_type": "execute_result"
    }
   ],
   "source": [
    "(math.sqrt(np.dot(unit_vect, unit_vect)))"
   ]
  },
  {
   "cell_type": "code",
   "execution_count": 14,
   "metadata": {},
   "outputs": [
    {
     "data": {
      "text/plain": [
       "'\\nVectors are orthogonal iff their dot product is 0\\nNotation: x ⊥ y if x • y = 0\\n\\nORTHOGONAL COMPLEMENT: The Orthogonal Complement of subspace W is the set {v in R^n where v • w = 0 for w in W}\\nORTHOGONAL PROJECTION: The vector from subspace W to point x: key formula is\\nProjection Vector xL = (u • x / u •\\xa0u) * u,\\nwhere u is a line on W closest to x and x is a point\\n'"
      ]
     },
     "execution_count": 14,
     "metadata": {},
     "output_type": "execute_result"
    }
   ],
   "source": [
    "'''\n",
    "Vectors are orthogonal iff their dot product is 0\n",
    "Notation: x ⊥ y if x • y = 0\n",
    "\n",
    "ORTHOGONAL COMPLEMENT: The Orthogonal Complement of subspace W is the set {v in R^n where v • w = 0 for w in W}\n",
    "ORTHOGONAL PROJECTION: The vector from subspace W to point x: key formula is\n",
    "Projection Vector xL = (u • x / u • u) * u,\n",
    "where u is a line on W closest to x and x is a point\n",
    "'''"
   ]
  },
  {
   "cell_type": "code",
   "execution_count": 15,
   "metadata": {},
   "outputs": [
    {
     "data": {
      "text/plain": [
       "array([[9.52551809, 0.        ],\n",
       "       [0.        , 0.51430058]])"
      ]
     },
     "execution_count": 15,
     "metadata": {},
     "output_type": "execute_result"
    }
   ],
   "source": [
    "s = np.array([9.52551809, 0.51430058])\n",
    "np.diag(s) # Turn a vector into a diagonal matrix"
   ]
  },
  {
   "cell_type": "code",
   "execution_count": 16,
   "metadata": {},
   "outputs": [
    {
     "data": {
      "text/plain": [
       "'\\nNext up: Linear transformations: https://textbooks.math.gatech.edu/ila/chap-matrices.html\\n'"
      ]
     },
     "execution_count": 16,
     "metadata": {},
     "output_type": "execute_result"
    }
   ],
   "source": [
    "'''\n",
    "Next up: Linear transformations: https://textbooks.math.gatech.edu/ila/chap-matrices.html\n",
    "'''"
   ]
  },
  {
   "cell_type": "markdown",
   "metadata": {},
   "source": [
    "# Positive Semidefinite\n",
    "* An ${n  x  n}$ square matrix is said to be positive semi definite if the scalar output o|f ${z^T • M • z}$ is positive for all ${z}$ of size ${n}$"
   ]
  },
  {
   "cell_type": "markdown",
   "metadata": {},
   "source": [
    "# Affine Function\n",
    "* Function in the form of a variable + a constant - a straight line in the form $\\displaystyle{mx + b}$"
   ]
  },
  {
   "cell_type": "markdown",
   "metadata": {},
   "source": [
    "# Quadratic Function\n",
    "\n",
    "* A function whose highest degree is 2."
   ]
  },
  {
   "cell_type": "markdown",
   "metadata": {},
   "source": [
    "# Singular Values\n",
    "* The absolute values of the eigenvalues of a system of equations"
   ]
  },
  {
   "cell_type": "markdown",
   "metadata": {},
   "source": [
    "# The Matrix Equation Ax = b\n",
    "* Multiplying a matrix A times a vector x can be viewed a linear combination of the columns of A using the x as weights\n",
    "* Ax - b = 0 shows up all the time in machine learning for linear problems"
   ]
  },
  {
   "cell_type": "code",
   "execution_count": null,
   "metadata": {},
   "outputs": [],
   "source": []
  }
 ],
 "metadata": {
  "kernelspec": {
   "display_name": "Python 3 (ipykernel)",
   "language": "python",
   "name": "python3"
  },
  "language_info": {
   "codemirror_mode": {
    "name": "ipython",
    "version": 3
   },
   "file_extension": ".py",
   "mimetype": "text/x-python",
   "name": "python",
   "nbconvert_exporter": "python",
   "pygments_lexer": "ipython3",
   "version": "3.9.7"
  }
 },
 "nbformat": 4,
 "nbformat_minor": 2
}
